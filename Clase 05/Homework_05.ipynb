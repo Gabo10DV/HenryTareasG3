{
 "cells": [
  {
   "attachments": {},
   "cell_type": "markdown",
   "metadata": {},
   "source": [
    "# Práctica Clase 5"
   ]
  },
  {
   "attachments": {},
   "cell_type": "markdown",
   "metadata": {},
   "source": [
    "1) Implementar un juego, que consista en apilar números enteros del 1 al 20, de forma aleatoria, para lo cual debe usarse una estructura de Pila. \n",
    "Luego, el usuario debe elegir un número de veces en que se va a quitar elementos de la pila, los cuales, sumados entre sí, no deben superar el valor de 50.\n",
    "El usuario pierde si la suma supera ese valor. Si no lo supera, gana, pero su calificación será 10 menos el número elementos que falten quitar para todavía no superar 50.\n",
    "El programa debe informar si perdió, y si ganó, con qué calificación lo hizo.\n",
    "\n",
    "Consideraciones:<br>\n",
    "a. Se puede usar la función input() para obtener una entrada de teclado.<br>\n",
    "b. Se puede usar la el modulo random para obtener valores aleatorios."
   ]
  },
  {
   "cell_type": "code",
   "execution_count": 25,
   "metadata": {},
   "outputs": [],
   "source": [
    "import random as r\n",
    "\n",
    "class Pila():\n",
    "    def __init__(self):   #se aplica de esta forma para que se ejecute automaticamente \n",
    "        self.__lista = []   #se definen asi para que sean privadas y no se puedan llamar desde afuera \n",
    "        self.__puntaje = 20\n",
    "    \n",
    "        for i in range(20):\n",
    "            #constructor\n",
    "            self.__lista.append(i+1)\n",
    "        r.shuffle(self.__lista)\n",
    "        print(self.__lista)\n",
    "\n",
    "    def quitar_ultimo(self):\n",
    "        return self.__lista.pop(-1)\n",
    "    def jugar(self):\n",
    "        print('Este es el juego de la pila consiste en:')\n",
    "        print(\"una lista de 20 elementos sel 1 al 20, debes elegir cuantos elementos quitar, los cuales se van a sumar, si el resultado es mayor a 50 pierdes\")\n",
    "        print(\"el puntaje sera 10 menos el numero de elementos que falten por quitar. SUERTE PAPU\\n\")\n",
    "\n",
    "        elementos = input(\"cuantos elementos desea quitar\")\n",
    "        elementos = int(elementos)\n",
    "        conteo = 0\n",
    "        for i in range(int(elementos)):\n",
    "            conteo += self.quitar_ultimo() #asi de de forma automatica se suman los elementos que se eliminen  \n",
    "\n",
    "        if conteo >= 50:\n",
    "            print('perdiste la suma de los',elementos,'elementos es de ',conteo)\n",
    "        else:\n",
    "            print(\"Ganaste, tu puntaje es:\", self.__puntaje-len(self.__lista)) #se usa la longitud 'len' para que se resten los elementos restantes de la lista"
   ]
  },
  {
   "cell_type": "code",
   "execution_count": 26,
   "metadata": {},
   "outputs": [
    {
     "name": "stdout",
     "output_type": "stream",
     "text": [
      "[16, 19, 17, 2, 4, 13, 5, 12, 11, 14, 18, 15, 6, 1, 7, 9, 3, 20, 8, 10]\n",
      "Este es el juego de la pila consiste en:\n",
      "una lista de 20 elementos sel 1 al 20, debes elegir cuantos elementos quitar, los cuales se van a sumar, si el resultado es mayor a 50 pierdes\n",
      "el puntaje sera 10 menos el numero de elementos que falten por quitar. SUERTE PAPU\n",
      "\n",
      "Ganaste, tu puntaje es: 18\n"
     ]
    }
   ],
   "source": [
    "juego = Pila()\n",
    "juego.jugar()"
   ]
  },
  {
   "cell_type": "code",
   "execution_count": 4,
   "metadata": {},
   "outputs": [
    {
     "name": "stdout",
     "output_type": "stream",
     "text": [
      "[5, 13, 3, 18, 11, 1, 14, 7, 4, 17, 12, 20, 16, 15, 6, 2, 9, 10, 19, 8]\n"
     ]
    }
   ],
   "source": [
    "prueba = Pila()"
   ]
  },
  {
   "attachments": {},
   "cell_type": "markdown",
   "metadata": {},
   "source": [
    "2) Implementar un juego donde constas de 2 jarras, de capacidad 5 y 3 litros respectivamente, y debes colocar 4 litros en la jarra de 5L.\n",
    "Las opciones posibles son:\n",
    "* Llenar la jarra de 3 litros\n",
    "* Llenar la jarra de 5 litros\n",
    "* Vaciar la jarra de 3 litros\n",
    "* Vaciar la jarra de 5 litros\n",
    "* Verter el contenido de la jarra de 3 litros en la de 5 litros\n",
    "* Verter el contenido de la jarra de 5 litros en la de 3 litros"
   ]
  },
  {
   "cell_type": "code",
   "execution_count": 28,
   "metadata": {},
   "outputs": [],
   "source": [
    "\n",
    "\n",
    "class Jarra ():\n",
    "    def __init__(self):\n",
    "        self.__jarra3 = 0\n",
    "        self.__jarra5 = 0\n",
    "    def llenar_jarra(self,jarra):\n",
    "                    #de esta forma se le da a escoger al usuario que jarra va a llenar \n",
    "        if jarra == 3:\n",
    "            self.__jarra3 = 3\n",
    "        elif jarra == 5:\n",
    "            self.__jarra5 = 5\n",
    "        else:\n",
    "            print('debe escoger 3 o 5')\n",
    "    def vaciar_jarra(self,jarra):\n",
    "        if jarra == 3:\n",
    "            self.__jarra3 = 0\n",
    "        elif jarra == 5:\n",
    "            self.__jarra5 = 0\n",
    "        else:\n",
    "            print('debe escoger 3 o 5')\n",
    "\n",
    "    def verter_jarra(self, jarra):\n",
    "        if jarra == 3:  #verter de la jarra 3 a l 5\n",
    "            if self.__jarra5 == 0:  # si la 5 esta vacia \n",
    "                self.__jarra5 = self.__jarra3\n",
    "                self.__jarra3 = 0\n",
    "            elif self.__jarra5 < 5 and self.__jarra5 > 0:  # de la 5 esta medio llena\n",
    "                while(self.__jarra5 < 5 and self.__jarra3 >0):\n",
    "                    self.__jarra5 +=1\n",
    "                    self.__jarra3 -=1\n",
    "            else:\n",
    "                print('La jarra ya esta llena')\n",
    "\n",
    "        elif jarra == 5: # verte de la jarra 5 a la 3 \n",
    "            while (self.__jarra5 !=0 and self.__jarra3 < 3):  #en caso de que la jarra 5 este medio llena se vierte y se saca la diferencia \n",
    "                self.__jarra5 -=1\n",
    "                self.__jarra3 +=1\n",
    "\n",
    "        else:\n",
    "            print('selecione una jarra disponible ')\n",
    "    def mostrar_jarra(self):\n",
    "        print('la jarra de 3 tiene',self.__jarra3,'litros')\n",
    "        print('la jarra de 5 tiene',self.__jarra5,'litros')"
   ]
  },
  {
   "cell_type": "code",
   "execution_count": 29,
   "metadata": {},
   "outputs": [],
   "source": [
    "Jarras = Jarra()\n",
    "# ahora se busca dejar la jarra de 5 litros llena solo con 4 litro"
   ]
  },
  {
   "cell_type": "code",
   "execution_count": 41,
   "metadata": {},
   "outputs": [
    {
     "name": "stdout",
     "output_type": "stream",
     "text": [
      "la jarra de 3 tiene 0 litros\n",
      "la jarra de 5 tiene 0 litros\n"
     ]
    }
   ],
   "source": [
    "Jarras.vaciar_jarra(5)\n",
    "Jarras.vaciar_jarra(3)\n",
    "Jarras.mostrar_jarra()"
   ]
  },
  {
   "cell_type": "code",
   "execution_count": 43,
   "metadata": {},
   "outputs": [
    {
     "name": "stdout",
     "output_type": "stream",
     "text": [
      "la jarra de 3 tiene 0 litros\n",
      "la jarra de 5 tiene 5 litros\n"
     ]
    }
   ],
   "source": [
    "Jarras.llenar_jarra(5)\n",
    "Jarras.mostrar_jarra()"
   ]
  },
  {
   "cell_type": "code",
   "execution_count": 44,
   "metadata": {},
   "outputs": [
    {
     "name": "stdout",
     "output_type": "stream",
     "text": [
      "la jarra de 3 tiene 3 litros\n",
      "la jarra de 5 tiene 2 litros\n"
     ]
    }
   ],
   "source": [
    "Jarras.verter_jarra(5)\n",
    "Jarras.mostrar_jarra()"
   ]
  },
  {
   "cell_type": "code",
   "execution_count": 45,
   "metadata": {},
   "outputs": [
    {
     "name": "stdout",
     "output_type": "stream",
     "text": [
      "la jarra de 3 tiene 0 litros\n",
      "la jarra de 5 tiene 2 litros\n"
     ]
    }
   ],
   "source": [
    "Jarras.vaciar_jarra(3)\n",
    "Jarras.mostrar_jarra()"
   ]
  },
  {
   "cell_type": "code",
   "execution_count": 46,
   "metadata": {},
   "outputs": [
    {
     "name": "stdout",
     "output_type": "stream",
     "text": [
      "la jarra de 3 tiene 2 litros\n",
      "la jarra de 5 tiene 0 litros\n"
     ]
    }
   ],
   "source": [
    "Jarras.verter_jarra(5)  \n",
    "\"\"\"ahora que la jarra de 3 le falta un litro se llena otra vez la de 5 para \n",
    "pasar el litro faltante de la 3 y que 5 quede con 4litros\"\"\"\n",
    "Jarras.mostrar_jarra()"
   ]
  },
  {
   "cell_type": "code",
   "execution_count": 47,
   "metadata": {},
   "outputs": [
    {
     "name": "stdout",
     "output_type": "stream",
     "text": [
      "la jarra de 3 tiene 2 litros\n",
      "la jarra de 5 tiene 5 litros\n"
     ]
    }
   ],
   "source": [
    "Jarras.llenar_jarra(5)\n",
    "Jarras.mostrar_jarra()"
   ]
  },
  {
   "cell_type": "code",
   "execution_count": 48,
   "metadata": {},
   "outputs": [
    {
     "name": "stdout",
     "output_type": "stream",
     "text": [
      "la jarra de 3 tiene 3 litros\n",
      "la jarra de 5 tiene 4 litros\n"
     ]
    }
   ],
   "source": [
    "Jarras.verter_jarra(5)  \n",
    "Jarras.mostrar_jarra()"
   ]
  }
 ],
 "metadata": {
  "kernelspec": {
   "display_name": "Python 3",
   "language": "python",
   "name": "python3"
  },
  "language_info": {
   "codemirror_mode": {
    "name": "ipython",
    "version": 3
   },
   "file_extension": ".py",
   "mimetype": "text/x-python",
   "name": "python",
   "nbconvert_exporter": "python",
   "pygments_lexer": "ipython3",
   "version": "3.10.11"
  }
 },
 "nbformat": 4,
 "nbformat_minor": 4
}
