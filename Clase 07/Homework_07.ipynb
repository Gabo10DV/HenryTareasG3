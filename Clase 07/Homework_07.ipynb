{
 "cells": [
  {
   "attachments": {},
   "cell_type": "markdown",
   "metadata": {},
   "source": [
    "# Práctica Clase 7"
   ]
  },
  {
   "attachments": {},
   "cell_type": "markdown",
   "metadata": {},
   "source": [
    "1) Diseñar una clase que permita trabajar con un árbol binario y que contenga los métodos:<br>\n",
    "    * insertaVal: para insertar un dato<br>\n",
    "    * buscaVal: que devuelva True o False si existe o no un dato<br>\n",
    "    * verVal: que imprima por pantalla los valores del árbol<br>\n",
    "\n",
    "Nota: Se puede utilizar la recursividad\n"
   ]
  },
  {
   "cell_type": "code",
   "execution_count": 4,
   "metadata": {},
   "outputs": [],
   "source": [
    "class Nodo():\n",
    "    def __init__(self, dato):\n",
    "        self.dato = dato\n",
    "        self.izq = None\n",
    "        self.der = None\n",
    "    def insertaVal(self, dato):\n",
    "        if dato < self.dato:\n",
    "            if self.izq == None:\n",
    "                self.izq = Nodo(dato)\n",
    "            else:\n",
    "                self.izq.insertaVal(dato)  # recursividad al llamarse a si misma \n",
    "        elif dato > self.dato:\n",
    "            if self.der == None:\n",
    "                self.der = Nodo(dato)\n",
    "            else:                             #se ve si la izq esta vacia y si no se va a la derecha \n",
    "                self.der.insertaVal(dato) \n",
    "        else:\n",
    "            print('valor repetido')\n",
    "        \n",
    "    def busccarVal (self, valbus):\n",
    "        if valbus < self.dato:   #si es menor lo busca en la izquierda \n",
    "            if self.izq == None:\n",
    "                return False    \n",
    "            return self.izq.busccarVal(valbus)  #partiendo del if anterior se vuelve  comparar para que retorne True si se encuentra o False si no \n",
    "        \n",
    "        elif valbus > self.dato: \n",
    "            if self.der == None:\n",
    "                return False    \n",
    "            return self.der.busccarVal(valbus)\n",
    "\n",
    "        else:\n",
    "            return True\n",
    "\n",
    "    def verVal(self):\n",
    "        if self.der: self.der.verVal()   #si el valor de la derecha esta lleno aplica la misma fucion verval y lo muestra \n",
    "        if self.izq: self.izq.verVal()   #si el valor de la izquierda esta lleno \"\"  \"\"   \"\"\n",
    "# para visualizar el arbol ir a la pagina memlayout.com"
   ]
  },
  {
   "cell_type": "code",
   "execution_count": 5,
   "metadata": {},
   "outputs": [
    {
     "data": {
      "text/plain": [
       "False"
      ]
     },
     "execution_count": 5,
     "metadata": {},
     "output_type": "execute_result"
    }
   ],
   "source": [
    "raiz = Nodo(5)\n",
    "\n",
    "raiz.insertaVal(10)\n",
    "raiz.insertaVal(1)\n",
    "raiz.insertaVal(9)\n",
    "raiz.insertaVal(7)\n",
    "raiz.busccarVal(24)"
   ]
  },
  {
   "cell_type": "code",
   "execution_count": null,
   "metadata": {},
   "outputs": [],
   "source": []
  }
 ],
 "metadata": {
  "kernelspec": {
   "display_name": "Python 3",
   "language": "python",
   "name": "python3"
  },
  "language_info": {
   "codemirror_mode": {
    "name": "ipython",
    "version": 3
   },
   "file_extension": ".py",
   "mimetype": "text/x-python",
   "name": "python",
   "nbconvert_exporter": "python",
   "pygments_lexer": "ipython3",
   "version": "3.10.11"
  }
 },
 "nbformat": 4,
 "nbformat_minor": 4
}
